{
  "nbformat": 4,
  "nbformat_minor": 0,
  "metadata": {
    "colab": {
      "provenance": []
    },
    "kernelspec": {
      "name": "python3",
      "display_name": "Python 3"
    },
    "language_info": {
      "name": "python"
    }
  },
  "cells": [
    {
      "cell_type": "markdown",
      "source": [
        "1. Draw in a single Geogebra notebook the following functions:\n",
        "   - $f(x) = x^2$\n",
        "   - $g(x) = \\sqrt{x}$\n",
        "   - $h(x) = \\frac{1}{x}$\n",
        "   - $j(x) = \\sin(x)$\n",
        "\n",
        "Find value of all the above functions at $x = 2$.\n",
        "\n",
        "2. Let $f(x) = 3x - 1$ and $g(x) = \\sqrt{x}$. Find:\n",
        "   - $f(g(x))$\n",
        "   - $g(f(x))$\n",
        "   - $f(f(x))$\n",
        "   - $g(g(x))$\n",
        "\n",
        "and visualize functions in a single Geogebra notebook.\n",
        "\n",
        "3. Let $f(x) = e^x$ and $g(x) = \\ln(x)$. Check: $f(g(x))$ and $g(f(x))$. What do you notice?\n",
        "\n",
        "4. We have function $f=\\{(1,7), (2,9), (3,11)\\}$. Give inverse function $f^{-1}$.\n",
        "\n",
        "5. We have function $f=\\{(1,7), (2,7), (3,11)\\}$. Give inverse function $f^{-1}$.\n",
        "\n",
        "6. We have function $f(x)= x-1$. Give inverse function $f^{-1}$. Show both functions on the same Geogebra notebook.\n",
        "\n",
        "\n",
        "\n"
      ],
      "metadata": {
        "id": "Y6PzR5BnM7dc"
      }
    },
    {
      "cell_type": "markdown",
      "source": [
        "# 1. Draw in a single Geogebra notebook the following functions:"
      ],
      "metadata": {
        "id": "4otMN1I0RnVs"
      }
    },
    {
      "cell_type": "code",
      "source": [
        "# geogebra visualisation:\n",
        "from IPython.display import HTML\n",
        "geolink=\"https://www.geogebra.org/calculator/rbsuvz2t\"\n",
        "HTML(f'<iframe src=\"{geolink}\" width=\"1000\" height=\"1000\"></iframe>')"
      ],
      "metadata": {
        "id": "mmxtOjZ2OW2k",
        "outputId": "96836d9d-9050-4783-ee6a-e6b6d7c9760d",
        "colab": {
          "base_uri": "https://localhost:8080/",
          "height": 1000
        }
      },
      "execution_count": 5,
      "outputs": [
        {
          "output_type": "execute_result",
          "data": {
            "text/plain": [
              "<IPython.core.display.HTML object>"
            ],
            "text/html": [
              "<iframe src=\"https://www.geogebra.org/calculator/rbsuvz2t\" width=\"1000\" height=\"1000\"></iframe>"
            ]
          },
          "metadata": {},
          "execution_count": 5
        }
      ]
    },
    {
      "cell_type": "markdown",
      "source": [
        "in $f(x) = x^2$, $x=2$ is at $(2,4)$\n",
        "\n",
        "in $g(x) = \\sqrt{x}$, $x=2$ is at $(2, 1.4...)$\n",
        "\n",
        "in $h(x) = \\frac{1}{x}$, $x=2$ is at $(2, 0.5)$\n",
        "\n",
        "in $j(x) = \\sin(x)$, $x=2$ is at $(2, 0.9...)$"
      ],
      "metadata": {
        "id": "1g3mpzHvPLth"
      }
    },
    {
      "cell_type": "markdown",
      "source": [
        "##. 2. Let $f(x)=3x-1$ and $g(x) = \\sqrt{x}$. Find:\n",
        "\n",
        "##   - $f(g(x))$\n",
        "##   - $g(f(x))$\n",
        "##   - $f(f(x))$\n",
        "##   - $g(g(x))$\n"
      ],
      "metadata": {
        "id": "TJWvlugWYNNP"
      }
    },
    {
      "cell_type": "markdown",
      "source": [
        "### using geogebra we can find the equations needed:"
      ],
      "metadata": {
        "id": "pm8_WY_GaNBk"
      }
    },
    {
      "cell_type": "code",
      "source": [
        "# geogebra visualisation\n",
        "geolink_2=\"https://www.geogebra.org/calculator/nhanyqbu\"\n",
        "HTML(f'<iframe src=\"{geolink_2}\" width=\"1000\" height=\"1000\"></iframe>')"
      ],
      "metadata": {
        "id": "CbqzqEU4Z-Pz",
        "outputId": "11f9ec5e-259c-4239-9297-0ee8f0f44930",
        "colab": {
          "base_uri": "https://localhost:8080/",
          "height": 1000
        }
      },
      "execution_count": 6,
      "outputs": [
        {
          "output_type": "execute_result",
          "data": {
            "text/plain": [
              "<IPython.core.display.HTML object>"
            ],
            "text/html": [
              "<iframe src=\"https://www.geogebra.org/calculator/nhanyqbu\" width=\"1000\" height=\"1000\"></iframe>"
            ]
          },
          "metadata": {},
          "execution_count": 6
        }
      ]
    },
    {
      "cell_type": "markdown",
      "source": [
        " $f(g(x)) = 3 \\sqrt{x}-1$\n",
        "\n",
        " $g(f(x)) = \\sqrt{3x-1}$\n",
        "\n",
        " $f(f(x)) = 3(3x-1)-1$\n",
        "\n",
        " $g(g(x)) = \\sqrt{\\sqrt{x}}$"
      ],
      "metadata": {
        "id": "Gi6q4i2hacF-"
      }
    },
    {
      "cell_type": "markdown",
      "source": [
        "3. Let $f(x) = e^x$ and $g(x) = \\ln(x)$. Check: $f(g(x))$ and $g(f(x))$. What do you notice?"
      ],
      "metadata": {
        "id": "APglZye9gU6F"
      }
    },
    {
      "cell_type": "code",
      "source": [
        "# geogebra visualisation\n",
        "geolink_3=\"https://www.geogebra.org/calculator/bwfgv3nc\"\n",
        "HTML(f'<iframe src=\"{geolink_3}\" width=\"1000\" height=\"1000\"></iframe>')"
      ],
      "metadata": {
        "id": "zcUSHfsChcv0",
        "outputId": "3c8d1442-8c95-4bbe-bda3-5356229b232c",
        "colab": {
          "base_uri": "https://localhost:8080/",
          "height": 1000
        }
      },
      "execution_count": 7,
      "outputs": [
        {
          "output_type": "execute_result",
          "data": {
            "text/plain": [
              "<IPython.core.display.HTML object>"
            ],
            "text/html": [
              "<iframe src=\"https://www.geogebra.org/calculator/bwfgv3nc\" width=\"1000\" height=\"1000\"></iframe>"
            ]
          },
          "metadata": {},
          "execution_count": 7
        }
      ]
    },
    {
      "cell_type": "markdown",
      "source": [
        "### looking at the geogebra graph, $f(x)=e^x$ and $g(x) = \\ln(x)$ are mirrored,  $f(g(x))$ goes over $g(f(x))$, but $g(f(x))$ expands only on the xy positive axis"
      ],
      "metadata": {
        "id": "UFYjLpp1hl90"
      }
    }
  ]
}