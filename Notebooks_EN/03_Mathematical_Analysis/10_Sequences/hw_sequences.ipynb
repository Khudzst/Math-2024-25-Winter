{
  "nbformat": 4,
  "nbformat_minor": 0,
  "metadata": {
    "colab": {
      "provenance": []
    },
    "kernelspec": {
      "name": "python3",
      "display_name": "Python 3"
    },
    "language_info": {
      "name": "python"
    }
  },
  "cells": [
    {
      "cell_type": "markdown",
      "source": [
        "### <li>Calculate:\n",
        "<ul>\n",
        "<li><p><span class=\"math inline\">$\\displaystyle \\lim_{n \\to \\infty} \\frac{n^2 + 3n}{2 n^2 - 2n}$</span></p></li>\n",
        "<li><p><span class=\"math inline\">\\(\\displaystyle \\lim_{n \\to \\infty} \\frac{(2n+3)^3}{n^3-1}\\)</span></p></li>\n",
        "</ul></li>\n",
        "\n",
        "### <li>Prove using the squeeze theorem:\n",
        "<ul>\n",
        "<li><span class=\"math inline\">\\(\\displaystyle\\lim_{n \\to \\infty} \\frac{\\sin(n)}{n}\\)</span></li>\n",
        "</ul></li>\n",
        "\n",
        "### <li>Find the limit of the sequence:\n",
        "<ul>\n",
        "<li><span class=\"math inline\">\\(a_n = (1+\\frac{1}{n})^n\\)</span></li>"
      ],
      "metadata": {
        "id": "HduJVIBksQOh"
      }
    },
    {
      "cell_type": "markdown",
      "source": [
        " Calculate:\n",
        " 1. with the first sequence we find the limits to each of the parts$(n^2+3n$ and $2n^2-2n)$ seperately\n",
        "\n",
        " $$\\lim_{n \\to \\infty}(n^2+3n)$$, $$\\lim_{n \\to \\infty}(2n^2-2n)$$\n",
        "\n",
        " $$\\lim_{n \\to \\infty}(n^2+3n)= +∞$$, $$\\lim_{n \\to \\infty}(2n^2-2n)= +∞$$, we get $\\frac{+∞}{+∞}$, equation isnt certain, so we will use a different method\n",
        " we will try taking out the common denominator$(n^2)$ outside:\n",
        " $$\\lim_{n \\to \\infty}\\frac{n^2*(1+\\frac{3}{n})}{n^2*(2-\\frac{2}{n})}$$\n",
        " we then take away the $n^2$ from both equations: $$\\lim_{n \\to \\infty}\\frac{1+\\frac{3}{n}}{2-\\frac{2}{n}}$$, $$\\frac{\\lim_{n \\to \\infty}(1+\\frac{3}{n})}{\\lim_{n \\to \\infty}(2-\\frac{2}{n})}$$,\n"
      ],
      "metadata": {
        "id": "9MxaDDnYwHMJ"
      }
    }
  ]
}