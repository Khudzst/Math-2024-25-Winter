{
  "cells": [
    {
      "cell_type": "markdown",
      "metadata": {
        "id": "F71s2AdJ4b9l"
      },
      "source": [
        "# School Method for Solving Systems of Linear Equations"
      ]
    },
    {
      "cell_type": "code",
      "execution_count": 65,
      "metadata": {
        "id": "Gn29jHeO4b9o"
      },
      "outputs": [],
      "source": [
        "import sympy as sp\n",
        "from sympy import symbols, Eq, expand, solve\n",
        "\n",
        "class EnhancedEq(Eq):\n",
        "    def __add__(self, other):\n",
        "        return EnhancedEq(self.lhs + other.lhs, self.rhs + other.rhs)\n",
        "\n",
        "    def __sub__(self, other):\n",
        "        return EnhancedEq(self.lhs - other.lhs, self.rhs - other.rhs)\n",
        "\n",
        "    def __mul__(self, scalar):\n",
        "        return EnhancedEq(scalar * self.lhs, scalar * self.rhs)\n",
        "\n",
        "    def __rmul__(self, scalar):\n",
        "        return self.__mul__(scalar)\n",
        "\n",
        "    def simplify(self):\n",
        "        return EnhancedEq(expand(self.lhs), expand(self.rhs))\n",
        "\n",
        "    def substitute(self, *args, **kwargs):\n",
        "        return EnhancedEq(self.lhs.subs(*args, **kwargs), self.rhs.subs(*args, **kwargs))\n",
        "\n",
        "    def solve_for(self, symbol):\n",
        "        return solve(self, symbol)\n",
        "\n",
        "# Example usage:\n",
        "\n",
        "\n",
        "# Define equations\n",
        "eq1 = EnhancedEq(2*x + y, 5)\n",
        "eq2 = EnhancedEq(x - y, 1)"
      ]
    },
    {
      "cell_type": "code",
      "execution_count": 3,
      "metadata": {
        "colab": {
          "base_uri": "https://localhost:8080/",
          "height": 56
        },
        "id": "eRIUZSCR4b9q",
        "outputId": "db1d34c7-4644-4b5e-92b4-be3cc0e34835"
      },
      "outputs": [
        {
          "output_type": "stream",
          "name": "stdout",
          "text": [
            "First equation:\n"
          ]
        },
        {
          "output_type": "execute_result",
          "data": {
            "text/plain": [
              "Eq(2*x + y, 5)"
            ],
            "text/latex": "$\\displaystyle 2 x + y = 5$"
          },
          "metadata": {},
          "execution_count": 3
        }
      ],
      "source": [
        "print(\"First equation:\")\n",
        "eq1"
      ]
    },
    {
      "cell_type": "code",
      "execution_count": 4,
      "metadata": {
        "colab": {
          "base_uri": "https://localhost:8080/",
          "height": 56
        },
        "id": "Hh0IBGC74b9r",
        "outputId": "f4969365-d985-4cea-e0ba-695968aa5bb8"
      },
      "outputs": [
        {
          "output_type": "stream",
          "name": "stdout",
          "text": [
            "Second equation:\n"
          ]
        },
        {
          "output_type": "execute_result",
          "data": {
            "text/plain": [
              "Eq(x - y, 1)"
            ],
            "text/latex": "$\\displaystyle x - y = 1$"
          },
          "metadata": {},
          "execution_count": 4
        }
      ],
      "source": [
        "print(\"Second equation:\")\n",
        "eq2"
      ]
    },
    {
      "cell_type": "code",
      "execution_count": 5,
      "metadata": {
        "colab": {
          "base_uri": "https://localhost:8080/",
          "height": 38
        },
        "id": "8qceUQK94b9r",
        "outputId": "a914ab8d-d0c3-4b59-feee-c897ce76bf47"
      },
      "outputs": [
        {
          "output_type": "execute_result",
          "data": {
            "text/plain": [
              "Eq(3*x, 6)"
            ],
            "text/latex": "$\\displaystyle 3 x = 6$"
          },
          "metadata": {},
          "execution_count": 5
        }
      ],
      "source": [
        "# Add the equations\n",
        "eq3 = eq1 + eq2\n",
        "eq3"
      ]
    },
    {
      "cell_type": "code",
      "execution_count": 6,
      "metadata": {
        "colab": {
          "base_uri": "https://localhost:8080/",
          "height": 37
        },
        "id": "d_qDKOW94b9s",
        "outputId": "db862a88-0a13-4ca5-80bf-42359481fc1c"
      },
      "outputs": [
        {
          "output_type": "execute_result",
          "data": {
            "text/plain": [
              "2"
            ],
            "text/latex": "$\\displaystyle 2$"
          },
          "metadata": {},
          "execution_count": 6
        }
      ],
      "source": [
        "# We have an equation with one unknown, so we can solve it\n",
        "sol_x = eq3.solve_for(x)[0]\n",
        "sol_x"
      ]
    },
    {
      "cell_type": "code",
      "execution_count": 8,
      "metadata": {
        "colab": {
          "base_uri": "https://localhost:8080/",
          "height": 38
        },
        "id": "FFG-rqGp4b9u",
        "outputId": "7d2c3223-6694-4705-9190-f136d862a0a8"
      },
      "outputs": [
        {
          "output_type": "execute_result",
          "data": {
            "text/plain": [
              "Eq(2 - y, 1)"
            ],
            "text/latex": "$\\displaystyle 2 - y = 1$"
          },
          "metadata": {},
          "execution_count": 8
        }
      ],
      "source": [
        "# Substitute the solution into equation 2\n",
        "eq2 = eq2.substitute(x, sol_x)\n",
        "eq2"
      ]
    },
    {
      "cell_type": "code",
      "execution_count": null,
      "metadata": {
        "id": "mo3mERhI4b9u"
      },
      "outputs": [],
      "source": [
        "# We get an equation with one unknown, so we can solve it\n",
        "eq2.solve_for(y)[0]"
      ]
    },
    {
      "cell_type": "code",
      "execution_count": null,
      "metadata": {
        "id": "-a-54zcx4b9v",
        "outputId": "3ec9be4c-581d-43fa-fb4b-6c4b95f74050"
      },
      "outputs": [
        {
          "data": {
            "text/plain": [
              "{x: 2, y: 1}"
            ]
          },
          "execution_count": 8,
          "metadata": {},
          "output_type": "execute_result"
        }
      ],
      "source": [
        "# Thus x=2, y=1\n",
        "# Verify with sympy\n",
        "sp.solve([eq1, eq2])"
      ]
    },
    {
      "cell_type": "markdown",
      "metadata": {
        "id": "R0AQNQ_I4b9w"
      },
      "source": [
        "---\n",
        "\n",
        "### Exercises for Students\n",
        "\n",
        "Solve the following systems of equations similarly to the example above:\n",
        "\n",
        "* $3x-2y=5, \\quad 2x+3y=7$,\n",
        "* $2x-3y=10, \\quad 4x+5y=20$,\n",
        "* $2x - y + z = 3, \\quad x + 2y - z = 1, \\quad 3x - y + 2z = 11$.\n",
        "* $2x-3y+4z+2t=2, \\quad 3x+2y-5z+3t=3, \\quad 4x-3y+2z-5t=4, \\quad 5x+4y-3z+2t=5$."
      ]
    },
    {
      "cell_type": "code",
      "source": [
        "# defining symbols and equations\n",
        "x, y, z, t = symbols('x y z t')\n",
        "\n",
        "eq1_1 = EnhancedEq(3*x - 2*y, 5) #3x-2y=5\n",
        "eq1_2 = EnhancedEq(2*x + 3*y, 7) #2x+3y=7\n",
        "# multiplying eq1_1 by 2, and eq1_2 by 3, to get only one unknown\n",
        "eq1_1 = eq1_1 * 3 # 9x-6y=15\n",
        "eq1_2 = eq1_2 * 2 # 4x+6y=14\n",
        "# add both equations\n",
        "eq1_3 = eq1_1 + eq1_2 # 13x=29\n",
        "# solving for x\n",
        "sol_x = eq1_3.solve_for(x)[0] # x=29/13\n",
        "# substitute sol_x into eq1_1\n",
        "eq1_1_substituted = eq1_1.substitute(x, sol_x) # 3*(29/13)-2y=5\n",
        "# solving for y\n",
        "sol_y=eq1_1_substituted.solve_for(y)[0] # -2y=5-3*(29-13), -2y=(5*13-3*29)/13,\n",
        "# -2y=(65-87)/13, -2y=-22/13, y=(-22/13)/-2, y=11/13\n",
        "# x=29/13, y=11/13\n",
        "solution1 = solve([eq1_1, eq1_2], (x, y))\n",
        "solution1"
      ],
      "metadata": {
        "colab": {
          "base_uri": "https://localhost:8080/"
        },
        "id": "jjbxVh5EOePs",
        "outputId": "1d52ee88-b3d2-4bcd-b1b2-b0da68610e40"
      },
      "execution_count": 77,
      "outputs": [
        {
          "output_type": "execute_result",
          "data": {
            "text/plain": [
              "{x: 29/13, y: 11/13}"
            ]
          },
          "metadata": {},
          "execution_count": 77
        }
      ]
    },
    {
      "cell_type": "code",
      "source": [
        "# defining equations\n",
        "eq2_1 = EnhancedEq(2*x - 3*y, 10) #2x-3y=10\n",
        "eq2_2 = EnhancedEq(4*x + 5*y, 20) #4x-5y=20\n",
        "# multiply eq2_1 by -2 to get rid of x\n",
        "eq2_1=eq2_1*-2 # -4x+6y=-20\n",
        "# add both equations\n",
        "eq2_3=eq2_1+eq2_2 # 11y=0\n",
        "# solve for y\n",
        "sol_y=eq2_3=eq2_3.solve_for(y)[0] # y=0\n",
        "# substitute y into eq1\n",
        "eq2_1_substituted=eq2_1.substitute(y, sol_y) # 2x-3*0=10\n",
        "#solve for x\n",
        "sol_x=eq2_1_substituted.solve_for(x)[0] # 2x=10, x=5\n",
        "#y=0, x=5\n",
        "solution2 = solve([eq2_1, eq2_2], (x, y))\n",
        "solution2"
      ],
      "metadata": {
        "colab": {
          "base_uri": "https://localhost:8080/"
        },
        "id": "gJpxGeDUi2Uv",
        "outputId": "dc02336d-e3df-4b01-e2c8-d8d3f27fc9f1"
      },
      "execution_count": 97,
      "outputs": [
        {
          "output_type": "execute_result",
          "data": {
            "text/plain": [
              "{x: 5, y: 0}"
            ]
          },
          "metadata": {},
          "execution_count": 97
        }
      ]
    },
    {
      "cell_type": "code",
      "source": [
        "# defining equations\n",
        "eq3_1 = EnhancedEq(2*x - y + z, 3) # 2x-y+z=3\n",
        "eq3_2 = EnhancedEq(x + 2*y - z, 1) # x+2y-z=1\n",
        "eq3_3 = EnhancedEq(3*x - y + 2*z, 11) # 3x-y+2z=11\n",
        "# add eq3_1 and eq3_2 to get rid of z in their respective equations\n",
        "eq3_4=eq3_1+eq3_2 #3x+y=4\n",
        "# multiply eq3_1 by -2 and add the result to eq3_3\n",
        "eq3_5=eq3_1*-2+eq3_3 # -x+y=5\n",
        "# substract eq3_4 fron eq3_5\n",
        "eq3_6=eq3_4-eq3_5 # 4x=-1\n",
        "# solve for x\n",
        "sol_x=eq3_6.solve_for(x)[0] #x=-1/4\n",
        "# substitute x to eq3_5\n",
        "eq3_5_substituted=eq3_5.substitute(x,sol_x) # 1/4+y=5\n",
        "# solve for y\n",
        "sol_y=eq3_5_substituted.solve_for(y)[0] # y=5-1/4, y=5/1-1/4, y=20-1/4, y=19/4\n",
        "# substitute x and y into eq3_1\n",
        "eq3_1_substituted=eq3_1.substitute(x,sol_x).substitute(y,sol_y) # 2(-1/4)-(19/4)+z=3\n",
        "# solve for z\n",
        "sol_z=eq3_1_substituted.solve_for(z)[0] # (-1/2)-(19/4)+z=3, (2+19/4)+z=3, -21/4+z=3\n",
        "# z=3+21/4, z= 12+21/4, z=33/4\n",
        "#x=-1/4, y=19/4, z=33/4\n",
        "solution3 = solve([eq3_1, eq3_2, eq3_3], (x, y, z))\n",
        "solution3"
      ],
      "metadata": {
        "colab": {
          "base_uri": "https://localhost:8080/"
        },
        "id": "HPQ-cM3xpzeO",
        "outputId": "a68df779-aa8a-4621-baae-cbf1675dcff0"
      },
      "execution_count": 67,
      "outputs": [
        {
          "output_type": "execute_result",
          "data": {
            "text/plain": [
              "{x: -1/4, y: 19/4, z: 33/4}"
            ]
          },
          "metadata": {},
          "execution_count": 67
        }
      ]
    },
    {
      "cell_type": "code",
      "source": [
        "\n",
        "# defining equations\n",
        "\n",
        "eq4_1 = EnhancedEq(2*x - 3*y + 4*z + 2*t, 2) # 2x-3y+4z+2t=2\n",
        "eq4_2 = EnhancedEq(3*x + 2*y - 5*z + 3*t, 3) # 3x+2y+5z+3t=3\n",
        "eq4_3 = EnhancedEq(4*x - 3*y + 2*z - 5*t, 4) # 4x-3y+2z-5t=4\n",
        "eq4_4 = EnhancedEq(5*x + 4*y - 3*z + 2*t, 5) # 5x+4y-3z+2t=5\n",
        "# we get rid of x by substracting eq4_1 from each equation except eq4_1, while multiplying all the equations by a certain number to allow proper elimination of x\n",
        "eq4_5=eq4_2*2-eq4_1*3 # 13*y - 22*z = 0\n",
        "eq4_6=eq4_3*1-eq4_1*2 # 3*y - 6*z - 9*t = 0\n",
        "eq4_7=eq4_4*2-eq4_1*5 # 23*y - 26*z - 6*t = 0\n",
        "# now we eliminate y from these equations\n",
        "eq4_8=eq4_6*13-eq4_5*3 # -60*z - 117*t = 0\n",
        "eq4_9=eq4_7*13-eq4_5*23 # -192*z - 78*t = 0\n",
        "\n"
      ],
      "metadata": {
        "colab": {
          "base_uri": "https://localhost:8080/",
          "height": 38
        },
        "id": "x3cf2XB33xJo",
        "outputId": "f6d08c56-7c93-4513-9463-086e35f73fc6"
      },
      "execution_count": 101,
      "outputs": [
        {
          "output_type": "execute_result",
          "data": {
            "text/plain": [
              "Eq(-117*t - 12*z, 0)"
            ],
            "text/latex": "$\\displaystyle - 117 t - 12 z = 0$"
          },
          "metadata": {},
          "execution_count": 101
        }
      ]
    },
    {
      "cell_type": "code",
      "source": [
        "\n",
        "\n",
        "\n",
        "eq2_1 = EnhancedEq(2*x - 3*y, 10)\n",
        "eq2_2 = EnhancedEq(4*x + 5*y, 20)\n",
        "\n",
        "solution2 = solve([eq2_1, eq2_2], (x, y))\n",
        "\n",
        "eq3_1 = EnhancedEq(2*x - y + z, 3)\n",
        "eq3_2 = EnhancedEq(x + 2*y - z, 1)\n",
        "eq3_3 = EnhancedEq(3*x - y + 2*z, 11)\n",
        "\n",
        "solution3 = solve([eq3_1, eq3_2, eq3_3], (x, y, z))\n",
        "\n",
        "eq4_1 = EnhancedEq(2*x - 3*y + 4*z + 2*t, 2)\n",
        "eq4_2 = EnhancedEq(3*x + 2*y - 5*z + 3*t, 3)\n",
        "eq4_3 = EnhancedEq (4*x - 3*y + 2*z - 5*t, 4)\n",
        "eq4_4 = EnhancedEq (5*x + 4*y - 3*z + 2*t, 5)\n",
        "\n",
        "solution4 = solve([eq4_1, eq4_2, eq4_3, eq4_4], (x, y, z, t))\n",
        "solution4"
      ],
      "metadata": {
        "colab": {
          "base_uri": "https://localhost:8080/"
        },
        "id": "vHHCE3TbYFDS",
        "outputId": "5d5c540c-1140-4a1f-b08f-6619fecb5855"
      },
      "execution_count": 88,
      "outputs": [
        {
          "output_type": "execute_result",
          "data": {
            "text/plain": [
              "{t: 0, x: 1, y: 0, z: 0}"
            ]
          },
          "metadata": {},
          "execution_count": 88
        }
      ]
    }
  ],
  "metadata": {
    "kernelspec": {
      "display_name": "Python 3",
      "language": "python",
      "name": "python3"
    },
    "language_info": {
      "codemirror_mode": {
        "name": "ipython",
        "version": 3
      },
      "file_extension": ".py",
      "mimetype": "text/x-python",
      "name": "python",
      "nbconvert_exporter": "python",
      "pygments_lexer": "ipython3",
      "version": "3.11.9"
    },
    "colab": {
      "provenance": []
    }
  },
  "nbformat": 4,
  "nbformat_minor": 0
}