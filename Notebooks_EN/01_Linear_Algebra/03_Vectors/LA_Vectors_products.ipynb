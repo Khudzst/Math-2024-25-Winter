{
  "cells": [
    {
      "cell_type": "markdown",
      "metadata": {
        "id": "W9j0nouGHUeb"
      },
      "source": [
        "# Vectors - Scalar, Vector, Mixed Products\n",
        "\n",
        "## Scalar Product\n",
        "\n",
        "The scalar product (also called the dot product) of two vectors is an operation that returns a scalar value. It is defined as the sum of the products of the corresponding components of two vectors.\n",
        "\n",
        "For two vectors $\\mathbf{a}$ and $\\mathbf{b}$ in the space $\\mathbb{R}^n$, where:\n",
        "\n",
        "$$\n",
        "\\mathbf{a} = [a_1, a_2, \\dots, a_n], \\quad \\mathbf{b} = [b_1, b_2, \\dots, b_n]\n",
        "$$\n",
        "\n",
        "The scalar product is defined as follows:\n",
        "\n",
        "$$\n",
        "\\mathbf{a} \\cdot \\mathbf{b} = a_1b_1 + a_2b_2 + \\dots + a_nb_n = \\sum_{i=1}^{n} a_i b_i\n",
        "$$\n",
        "\n",
        "Example for three-dimensional space ($ \\mathbb{R}^3 $):\n",
        "\n",
        "For vectors $\\mathbf{a} = [a_1, a_2, a_3]$ and $\\mathbf{b} = [b_1, b_2, b_3]$, the scalar product is:\n",
        "\n",
        "$$\n",
        "\\mathbf{a} \\cdot \\mathbf{b} = a_1b_1 + a_2b_2 + a_3b_3\n",
        "$$\n",
        "\n",
        "The scalar product returns a number that measures the \"similarity of direction\" between two vectors. If $\\mathbf{a} \\cdot \\mathbf{b} = 0$, the vectors are perpendicular.\n",
        "\n",
        "Alternatively, the scalar product can be expressed as:\n",
        "\n",
        "$$\n",
        "\\mathbf{a} \\cdot \\mathbf{b} = \\|\\mathbf{a}\\| \\|\\mathbf{b}\\| \\cos(\\theta),\n",
        "$$\n",
        "which is the product of the magnitudes of vectors $\\mathbf{a}$ and $\\mathbf{b}$ multiplied by the cosine of the angle between them.\n",
        "\n",
        "## Vector Product\n",
        "\n",
        "The vector product (also called the cross product) is an operation that returns a new vector perpendicular to the two input vectors. It is defined only in three-dimensional space $ \\mathbb{R}^3 $.\n",
        "\n",
        "For two vectors $ \\mathbf{a} = [a_1, a_2, a_3] $ and $ \\mathbf{b} = [b_1, b_2, b_3] $, the vector product $ \\mathbf{a} \times \\mathbf{b} $ is defined as:\n",
        "\n",
        "$$ \\mathbf{a} \t\\times \\mathbf{b} =\n",
        "\\begin{vmatrix}\n",
        "\\mathbf{i} & \\mathbf{j} & \\mathbf{k} \\\\\n",
        "a_1 & a_2 & a_3 \\\\\n",
        "b_1 & b_2 & b_3\n",
        "\\end{vmatrix}\n",
        "$$\n",
        "\n",
        "Where $ \\mathbf{i}, \\mathbf{j}, \\mathbf{k} $ are unit vectors along the $ x, y, z $ axes. Interestingly, to calculate the vector product and obtain the resulting vector, we use the determinant (a scalar) of the matrix (a second-order tensor) whose rows are the basis vectors (vectors) and the components of the vectors (scalars).\n",
        "\n",
        "The vector product can be expressed in expanded form:\n",
        "\n",
        "$$ \\mathbf{a} \t\\times \\mathbf{b} = \\left( a_2b_3 - a_3b_2 \\right)\\mathbf{i} - \\left( a_1b_3 - a_3b_1 \\right)\\mathbf{j} + \\left( a_1b_2 - a_2b_1 \\right)\\mathbf{k} $$\n",
        "\n",
        "The result of the vector product is a new vector:\n",
        "\n",
        "$$ \\mathbf{c} = \\mathbf{a} \t\\times \\mathbf{b} = [a_2b_3 - a_3b_2, a_3b_1 - a_1b_3, a_1b_2 - a_2b_1] $$\n",
        "\n",
        "The vector product returns a vector $\\mathbf{c}$ perpendicular to the plane defined by $ \\mathbf{a} $ and $ \\mathbf{b} $, and its magnitude is equal to the area of the parallelogram whose sides are defined by the vectors $ \\mathbf{a} $ and $ \\mathbf{b} $\n",
        "$$\n",
        "|\\mathbf{c}| = |\\mathbf{a}| |\\mathbf{b}| \\sin \\theta\n",
        "$$\n",
        "\n",
        "where $\theta$ is the angle between the vectors. The direction of vector $\\vec{c}$ is determined by the right-hand rule.\n",
        "\n",
        "## Mixed Product\n",
        "\n",
        "The mixed product of three vectors $\\mathbf{a}, \\mathbf{b}, \\mathbf{c}$ is defined as:\n",
        "\n",
        "$$\n",
        "\\mathbf{a} \\cdot \\left( \\mathbf{b} \\times \\mathbf{c} \\right)\n",
        "$$\n",
        "\n",
        "This is equivalent to the scalar product $\\mathbf{a} \\times \\left( \\mathbf{b} \\times \\mathbf{c} \\right)$.\n",
        "\n",
        "The mixed product is equal to zero if the vectors $\\mathbf{a}, \\mathbf{b}, \\mathbf{c}$ are collinear or parallel.\n",
        "\n",
        "The volume of the parallelepiped defined by three vectors $\\mathbf{a}, \\mathbf{b}, \\mathbf{c}$ is equal to the absolute value of the mixed product of these vectors.\n",
        "\n",
        "## Implementation"
      ]
    },
    {
      "cell_type": "code",
      "execution_count": 2,
      "metadata": {
        "id": "9c_0XqbyHUef"
      },
      "outputs": [],
      "source": [
        "import sympy as sp\n",
        "# Vector definitions\n",
        "a = sp.Matrix([1, 2, 3])\n",
        "b = sp.Matrix([4, 5, 6])\n",
        "c = sp.Matrix([7, 0, 9])\n",
        "d = sp.Matrix([0, 2, 0])"
      ]
    },
    {
      "cell_type": "code",
      "execution_count": null,
      "metadata": {
        "id": "XyhajoFOHUei"
      },
      "outputs": [],
      "source": [
        "# Display vector c\n",
        "c"
      ]
    },
    {
      "cell_type": "code",
      "execution_count": null,
      "metadata": {
        "id": "gOmf0acGHUej"
      },
      "outputs": [],
      "source": [
        "# Adding vectors a and b\n",
        "a + b"
      ]
    },
    {
      "cell_type": "code",
      "execution_count": 3,
      "metadata": {
        "id": "0SMc5EO_HUek",
        "outputId": "06771635-7acd-4f80-9508-dad7365f3c5c",
        "colab": {
          "base_uri": "https://localhost:8080/"
        }
      },
      "outputs": [
        {
          "output_type": "execute_result",
          "data": {
            "text/plain": [
              "True"
            ]
          },
          "metadata": {},
          "execution_count": 3
        }
      ],
      "source": [
        "# Dot product of a and b\n",
        "(1*4 + 2*5 + 3*6) == a.dot(b)"
      ]
    },
    {
      "cell_type": "code",
      "execution_count": 4,
      "metadata": {
        "id": "-yl_WPMeHUek",
        "outputId": "a16cb527-db13-4927-8504-e4d5e04845f1",
        "colab": {
          "base_uri": "https://localhost:8080/"
        }
      },
      "outputs": [
        {
          "output_type": "execute_result",
          "data": {
            "text/plain": [
              "True"
            ]
          },
          "metadata": {},
          "execution_count": 4
        }
      ],
      "source": [
        "# Cross product of a and c\n",
        "# a = [1, 2, 3]\n",
        "# c = [7, 0, 9]\n",
        "\n",
        "# As an aid, write the vectors as 3x3 matrices\n",
        "# i, j, k\n",
        "# 1, 2, 3\n",
        "# 7, 0, 9\n",
        "\n",
        "# Now\n",
        "comp1 = (2*9 - 3*0)\n",
        "comp2 = -(1*9 - 3*7)\n",
        "comp3 = (1*0 - 2*7)\n",
        "\n",
        "# Result\n",
        "sp.Matrix([comp1, comp2, comp3]) == a.cross(c)"
      ]
    },
    {
      "cell_type": "code",
      "execution_count": null,
      "metadata": {
        "id": "1t9six99HUeu"
      },
      "outputs": [],
      "source": [
        "# Perpendicularity of vectors\n",
        "# c = [7, 0, 9]\n",
        "# d = [0, 2, 0]\n",
        "\n",
        "# If the dot product of vectors is equal to 0, they are perpendicular\n",
        "dot_product = 7*0 + 0*2 + 9*0\n",
        "dot_product == 0"
      ]
    },
    {
      "cell_type": "markdown",
      "metadata": {
        "id": "SkB0fXHFHUev"
      },
      "source": [
        "## Applications\n",
        "\n",
        "### Calculating the Angle Between Vectors\n",
        "\n",
        "$$\n",
        "\\cos \\theta = \\frac{\\mathbf{a} \\cdot \\mathbf{b}}{\\|\\mathbf{a}\\| \\|\\mathbf{b}\\|}\n",
        "$$\n",
        "\n",
        "### Checking Vector Perpendicularity\n",
        "\n",
        "Vectors $\\mathbf{a}$ and $\\mathbf{b}$ are perpendicular if their dot product is zero:\n",
        "$$\n",
        "\\mathbf{a} \\cdot \\mathbf{b} = 0\n",
        "\\quad \\Leftrightarrow \\quad\n",
        " \\mathbf{a} \\perp \\mathbf{b}\n",
        "$$\n",
        "\n",
        "### Finding Projections of Vectors onto Other Vectors\n",
        "\n",
        "$$\n",
        "\\text{Projection} = \\frac{\\mathbf{a} \\cdot \\mathbf{b}}{\\|\\mathbf{b}\\|}\n",
        "$$\n",
        "\n",
        "### Calculating Work Done by a Force in Physics\n",
        "\n",
        "For a force $\\mathbf{F} = (F_x, F_y, F_z)$ acting along a displacement $\\mathbf{d} = (d_x, d_y, d_z)$, work is calculated as:\n",
        "\n",
        "$$\n",
        "W = \\mathbf{F} \\cdot \\mathbf{d} = |\\mathbf{F}| |\\mathbf{d}| \\cos \\theta = F_x d_x + F_y d_y + F_z d_z\n",
        "$$\n",
        "\n",
        "### Torque\n",
        "\n",
        "In physics: torque is the vector product of the force vector and the arm of the force:\n",
        "\n",
        "$$\n",
        "\\mathbf{M} = \\mathbf{r} \\times \\mathbf{F}\n",
        "$$\n",
        "\n",
        "### Calculating the Area of a Parallelogram\n",
        "\n",
        "The area of a parallelogram spanned by two vectors:\n",
        "\n",
        "$$\n",
        "\\text{Area}_{r} = \\mathbf{a} \\times \\mathbf{b} = |\\mathbf{a}| |\\mathbf{b}| \\sin \\theta\n",
        "$$\n",
        "\n",
        "### Calculating the Area of a Triangle\n",
        "\n",
        "The area of a triangle spanned by two vectors $\\mathbf{a}$ and $\\mathbf{b}$:\n",
        "\n",
        "$$\n",
        "\\text{Area}_{t} = \\frac{1}{2} |\\mathbf{a} \\times \\mathbf{b}|\n",
        "$$\n",
        "\n",
        "### Calculating the Volume of Parallelepipeds and Tetrahedrons\n",
        "\n",
        "The mixed product of vectors is used to calculate the volume of parallelepipeds and tetrahedrons. For three vectors **$\\mathbf{a}$**, **$\\mathbf{b}$**, and **$\\mathbf{c}$**, the volume of the parallelepiped is given by:\n",
        "\n",
        "$$\n",
        "V = |\\mathbf{a} \\cdot (\\mathbf{b} \\times \\mathbf{c})|\n",
        "$$\n",
        "(Note: **| |** here denotes the absolute value, not the magnitude!)\n",
        "\n",
        "### Checking Coplanarity of Three Vectors\n",
        "\n",
        "If the mixed product of three vectors is equal to zero, it means that the vectors are coplanar. Otherwise, they form a tetrahedron.\n",
        "\n",
        "---\n",
        "\n",
        "## Student Exercises\n",
        "\n",
        "A. Perform the addition of vector $[2, 1]$ to vector $[-1, 1]$. Plot both vectors and their sum on a graph.\n",
        "\n",
        "B. Calculate the area of the triangle spanned by vectors $[2, 1]$ and $[-1, 1]$.\n",
        "\n",
        "C. Calculate the volume of the parallelepiped spanned by vectors $[2, 1]$, $[-1, 1]$, and $[1, 2]$.\n",
        "\n",
        "D. Check if vectors $[2, 1]$ and $[-1, 1]$ are perpendicular.\n",
        "\n",
        "E. Calculate the angle in degrees between vectors $[4,2,1]$ and $[1,3,2]$.\n",
        "\n",
        "F. For three-dimensional vectors: $\\mathbf{a}=[a_x, a_y, a_z]$, $\\mathbf{b}=[b_x, b_y, b_z]$, $\\mathbf{c}=[c_x, c_y, c_z]$, prove that the following identity is satisfied:\n",
        "\n",
        "$$\n",
        "\\mathbf{a} \\times (\\mathbf{b} \\times \\mathbf{c}) = (\\mathbf{a} \\cdot \\mathbf{c}) \\mathbf{b} - (\\mathbf{a} \\cdot \\mathbf{b}) \\mathbf{c}.\n",
        "$$"
      ]
    },
    {
      "cell_type": "code",
      "source": [
        "import sympy as sp\n",
        "import numpy as np\n",
        "import matplotlib.pyplot as plt\n",
        "a=sp.Matrix([2,1,0])\n",
        "b=sp.Matrix([-1,1,0])\n",
        "c=sp.Matrix([1,2,0])\n",
        "d=sp.Matrix([4,2,1])\n",
        "e=sp.Matrix([1,3,2])"
      ],
      "metadata": {
        "id": "v6l1eIBtW2uB"
      },
      "execution_count": 23,
      "outputs": []
    },
    {
      "cell_type": "code",
      "source": [
        "# A. Perform the addition of vector [2,1] to vector [−1,1]. Plot both vectors and their sum on a graph.\n",
        "# a+b=(2+(-1)),(1+1)= (1,2)\n",
        "a_b=sp.Matrix([1,2,0])\n",
        "a_b==a+b\n"
      ],
      "metadata": {
        "id": "V66_KdTgYA5f",
        "outputId": "dc594452-df64-46ec-9046-8f705421f166",
        "colab": {
          "base_uri": "https://localhost:8080/"
        }
      },
      "execution_count": 30,
      "outputs": [
        {
          "output_type": "execute_result",
          "data": {
            "text/plain": [
              "True"
            ]
          },
          "metadata": {},
          "execution_count": 30
        }
      ]
    },
    {
      "cell_type": "code",
      "source": [
        "plt.figure()\n",
        "plt.quiver(0,0,2,1,angles='xy',scale_units='xy',scale=1,color='r')\n",
        "plt.quiver(0,0,-1,1,angles='xy',scale_units='xy',scale=1,color='b')\n",
        "plt.quiver(0,0,1,2,angles='xy',scale_units='xy',scale=1,color='g')\n",
        "plt.xlim(-2,3)\n",
        "plt.ylim(0,3)\n",
        "plt.grid(True)\n",
        "plt.gca().set_aspect('equal')\n",
        "plt.show()"
      ],
      "metadata": {
        "id": "w5Zt8EYhi_lx",
        "outputId": "e36e93b7-dbc8-4253-bfdc-69d931cd8e28",
        "colab": {
          "base_uri": "https://localhost:8080/",
          "height": 363
        }
      },
      "execution_count": 26,
      "outputs": [
        {
          "output_type": "display_data",
          "data": {
            "text/plain": [
              "<Figure size 640x480 with 1 Axes>"
            ],
            "image/png": "[encoded data removed]"
          },
          "metadata": {}
        }
      ]
    },
    {
      "cell_type": "code",
      "source": [
        "# B. Calculate the area of the triangle spanned by vectors [2,1] and [−1,1].\n",
        "# we already extended the vectors to 3d to apply the cross product formula\n",
        "# Area=1/2*|a x b|\n",
        "# |a x b| - magnitude of the cross product of a and b\n"
      ],
      "metadata": {
        "id": "R6UP_1rJayhb"
      },
      "execution_count": null,
      "outputs": []
    },
    {
      "cell_type": "code",
      "source": [
        "axb_vec=sp.Matrix([\n",
        "    [2,1,0],\n",
        "    [-1,1,0]\n",
        "])\n",
        "axb_vec"
      ],
      "metadata": {
        "id": "rSkv2jmmprob",
        "outputId": "d9b228b0-c809-4c31-d202-05186f48077c",
        "colab": {
          "base_uri": "https://localhost:8080/",
          "height": 58
        }
      },
      "execution_count": 41,
      "outputs": [
        {
          "output_type": "execute_result",
          "data": {
            "text/plain": [
              "Matrix([\n",
              "[ 2, 1, 0],\n",
              "[-1, 1, 0]])"
            ],
            "text/latex": "$\\displaystyle \\left[\\begin{matrix}2 & 1 & 0\\\\-1 & 1 & 0\\end{matrix}\\right]$"
          },
          "metadata": {},
          "execution_count": 41
        }
      ]
    },
    {
      "cell_type": "markdown",
      "source": [
        "The vector(cross) product can be expressed in expanded form:\n",
        "\n",
        "$$ \\mathbf{a} \t\\times \\mathbf{b} = \\left( a_2b_3 - a_3b_2 \\right)\\mathbf{i} - \\left( a_1b_3 - a_3b_1 \\right)\\mathbf{j} + \\left( a_1b_2 - a_2b_1 \\right)\\mathbf{k} $$\n"
      ],
      "metadata": {
        "id": "iRpyOd12oyZD"
      }
    },
    {
      "cell_type": "code",
      "source": [
        "# |a x b| = (1*0-0*1)-(2*0-0*-1)+(2*1-1*-1)=(2-(-1))=3\n",
        "axb=sp.Matrix([0,0,3])\n",
        "axb==a.cross(b)"
      ],
      "metadata": {
        "id": "lTrt1x9fo0ns",
        "outputId": "a697c8d2-5631-4fa3-f8d3-d1185ff6ab83",
        "colab": {
          "base_uri": "https://localhost:8080/"
        }
      },
      "execution_count": 46,
      "outputs": [
        {
          "output_type": "execute_result",
          "data": {
            "text/plain": [
              "True"
            ]
          },
          "metadata": {},
          "execution_count": 46
        }
      ]
    },
    {
      "cell_type": "code",
      "source": [
        "# magnitude of axb=√(0^2 + 0^2 + 3^2)=√(0+0+9)=√9=3\n",
        "magn_axb=3\n",
        "magn_axb_true=sp.sqrt(0**2+0**2+3**2)\n",
        "magn_axb==magn_axb_true"
      ],
      "metadata": {
        "id": "z9J0p-rVsUEO",
        "outputId": "4273908e-f23e-41e3-dfcb-030be883313d",
        "colab": {
          "base_uri": "https://localhost:8080/"
        }
      },
      "execution_count": 49,
      "outputs": [
        {
          "output_type": "execute_result",
          "data": {
            "text/plain": [
              "True"
            ]
          },
          "metadata": {},
          "execution_count": 49
        }
      ]
    },
    {
      "cell_type": "code",
      "source": [
        "# 1/2*3/1=3/2\n",
        "area=3/2\n",
        "area==magn_axb/2"
      ],
      "metadata": {
        "id": "Mq0usUWytQ4S",
        "outputId": "0884c8e0-b24b-4192-f0b6-608d73a99152",
        "colab": {
          "base_uri": "https://localhost:8080/"
        }
      },
      "execution_count": 50,
      "outputs": [
        {
          "output_type": "execute_result",
          "data": {
            "text/plain": [
              "True"
            ]
          },
          "metadata": {},
          "execution_count": 50
        }
      ]
    },
    {
      "cell_type": "code",
      "source": [
        "# C. Calculate the volume of the parallelepiped spanned by vectors [2,1], [−1,1], and [1,2].\n",
        "abc=sp.Matrix([\n",
        "    [2,1,0],\n",
        "    [-1,1,0],\n",
        "    [1,2,0]\n",
        "])\n",
        "abc"
      ],
      "metadata": {
        "id": "nvB7R209uE3T",
        "outputId": "8ec25a8a-b268-4837-93b4-4a53a779b4bb",
        "colab": {
          "base_uri": "https://localhost:8080/",
          "height": 78
        }
      },
      "execution_count": 55,
      "outputs": [
        {
          "output_type": "execute_result",
          "data": {
            "text/plain": [
              "Matrix([\n",
              "[ 2, 1, 0],\n",
              "[-1, 1, 0],\n",
              "[ 1, 2, 0]])"
            ],
            "text/latex": "$\\displaystyle \\left[\\begin{matrix}2 & 1 & 0\\\\-1 & 1 & 0\\\\1 & 2 & 0\\end{matrix}\\right]$"
          },
          "metadata": {},
          "execution_count": 55
        }
      ]
    },
    {
      "cell_type": "code",
      "source": [
        "# now we need to find the determinant\n",
        "# det_abc= 2(1*0-0*2)-1(-1*0-0*1)+0(-1*2-1*1)=0(-2-1)=0(-3)=0\n",
        "# since the determinant is 0, the volume of the parallelepiped is also 0\n",
        "det_abc=0\n",
        "det_abc==abc.det()"
      ],
      "metadata": {
        "id": "bBufq4Svym9s",
        "outputId": "f52f9dec-06a7-4290-82a8-82035985cfc7",
        "colab": {
          "base_uri": "https://localhost:8080/"
        }
      },
      "execution_count": 56,
      "outputs": [
        {
          "output_type": "execute_result",
          "data": {
            "text/plain": [
              "True"
            ]
          },
          "metadata": {},
          "execution_count": 56
        }
      ]
    },
    {
      "cell_type": "code",
      "source": [
        "# D. Check if vectors [2,1] and [−1,1] are perpendicular.\n",
        "# if both vectors are multiplied and the outcome is 0, then those vectors are perpendicular to each other\n",
        "# a*b=(2*-1)+(1*1)=-2+1=-1\n",
        "ab=-1\n",
        "ab_true=a.dot(b)\n",
        "ab==ab_true\n"
      ],
      "metadata": {
        "id": "YWlBdKJN2z6y",
        "outputId": "75347041-d13c-4e98-9fd8-436f1026e488",
        "colab": {
          "base_uri": "https://localhost:8080/"
        }
      },
      "execution_count": 62,
      "outputs": [
        {
          "output_type": "execute_result",
          "data": {
            "text/plain": [
              "True"
            ]
          },
          "metadata": {},
          "execution_count": 62
        }
      ]
    },
    {
      "source": [
        "# E. Calculate the angle in degrees between vectors [4,2,1] and [1,3,2].\n",
        "from IPython.display import HTML\n",
        "# the vectors inside a 3d space\n",
        "geogebra_link = \"https://www.geogebra.org/calculator/mrgwbwtj\"\n",
        "HTML(f'<iframe src=\"{geogebra_link}\" width=\"1000\" height=\"800\"></iframe>')"
      ],
      "cell_type": "code",
      "metadata": {
        "id": "YTr4XD7o90uU",
        "outputId": "9096e515-5032-43ac-cfb0-9a7167a03ade",
        "colab": {
          "base_uri": "https://localhost:8080/",
          "height": 825
        }
      },
      "execution_count": 66,
      "outputs": [
        {
          "output_type": "execute_result",
          "data": {
            "text/plain": [
              "<IPython.core.display.HTML object>"
            ],
            "text/html": [
              "<iframe src=\"https://www.geogebra.org/calculator/mrgwbwtj\" width=\"1000\" height=\"800\"></iframe>"
            ]
          },
          "metadata": {},
          "execution_count": 66
        }
      ]
    },
    {
      "cell_type": "markdown",
      "source": [
        "# the vectors in 2d space\n",
        "![firefox_EFbq6B5Uni.png](data:image/png;base64,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)"
      ],
      "metadata": {
        "id": "73sESWJn-OY8"
      }
    },
    {
      "cell_type": "code",
      "source": [
        "# the angle between d and e = cosθ= d.e/|d||e|\n",
        "#d.e= (4*1)+(2*3)+(1*2)=4+6+2=12\n",
        "dot_de=12\n",
        "dot_de==d.dot(e)\n"
      ],
      "metadata": {
        "id": "mc0ZFYyY-ecp",
        "outputId": "67eda469-4f8e-4cec-9c40-627ea73495da",
        "colab": {
          "base_uri": "https://localhost:8080/"
        }
      },
      "execution_count": 68,
      "outputs": [
        {
          "output_type": "execute_result",
          "data": {
            "text/plain": [
              "True"
            ]
          },
          "metadata": {},
          "execution_count": 68
        }
      ]
    },
    {
      "cell_type": "code",
      "source": [
        "# F. For three-dimensional vectors: a=[ax,ay,az], b=[bx,by,bz], c=[cx,cy,cz], prove that the following identity is satisfied:\n",
        "\n",
        "# a×(b×c)=(a⋅c)b−(a⋅b)c.\n"
      ],
      "metadata": {
        "id": "NCjdppaFTjV3"
      },
      "execution_count": 69,
      "outputs": []
    }
  ],
  "metadata": {
    "kernelspec": {
      "display_name": "Python 3 (ipykernel)",
      "language": "python",
      "name": "python3",
      "path": "/media/dch/Disk2/Vizja/Math-2024-25-Winter/.venv/share/jupyter/kernels/python3"
    },
    "colab": {
      "provenance": []
    }
  },
  "nbformat": 4,
  "nbformat_minor": 0
}